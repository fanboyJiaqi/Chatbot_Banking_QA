{
 "cells": [
  {
   "cell_type": "code",
   "execution_count": 3,
   "metadata": {},
   "outputs": [],
   "source": [
    "import os\n",
    "from dotenv import load_dotenv\n",
    "\n",
    "# Tải biến môi trường từ tệp .env\n",
    "load_dotenv()\n",
    "\n",
    "# Lấy khóa API từ biến môi trường\n",
    "google_api_key = os.getenv(\"GOOGLE_API_KEY\")"
   ]
  },
  {
   "cell_type": "code",
   "execution_count": 2,
   "metadata": {},
   "outputs": [
    {
     "name": "stderr",
     "output_type": "stream",
     "text": [
      "c:\\Users\\Admin\\Documents\\GPT_LLM\\LLMVenv\\lib\\site-packages\\tqdm\\auto.py:21: TqdmWarning: IProgress not found. Please update jupyter and ipywidgets. See https://ipywidgets.readthedocs.io/en/stable/user_install.html\n",
      "  from .autonotebook import tqdm as notebook_tqdm\n"
     ]
    }
   ],
   "source": [
    "# Import libraries\n",
    "from langchain_google_genai import ChatGoogleGenerativeAI\n",
    "from langchain.prompts import PromptTemplate \n",
    "from langchain.text_splitter import TextSplitter\n",
    "from langchain import LLMChain\n",
    "import requests\n",
    "from bs4 import BeautifulSoup"
   ]
  },
  {
   "cell_type": "code",
   "execution_count": 4,
   "metadata": {},
   "outputs": [],
   "source": [
    "# Define prompt templates\n",
    "extract_conversation_prompt = PromptTemplate(\n",
    "    input_variables=[\"text\"],\n",
    "    template=\"This is a conversation between people:\\n{text}\"\n",
    ")\n",
    "\n",
    "summarize_conversation_prompt = PromptTemplate(\n",
    "    input_variables=[\"text\"],\n",
    "    template=\"Summarize the most important information from the conversation: {text}\"\n",
    ")"
   ]
  },
  {
   "cell_type": "code",
   "execution_count": 5,
   "metadata": {},
   "outputs": [],
   "source": [
    "def summarize_conversation_from_file(filename):\n",
    "    \"\"\"\n",
    "    Summarizes conversation from a text file using LangChain and Gemini.\n",
    "\n",
    "    Args:\n",
    "        filename: Path to the file containing the conversation.\n",
    "    \"\"\"\n",
    "    # Load conversation text\n",
    "    with open(filename, \"r\") as f:\n",
    "        conversation_text = f.read()\n",
    "    \n",
    "    return summarize_conversation(conversation_text)"
   ]
  },
  {
   "cell_type": "code",
   "execution_count": 6,
   "metadata": {},
   "outputs": [],
   "source": [
    "\n",
    "def summarize_conversation_from_input():\n",
    "    \"\"\"\n",
    "    Summarizes conversation input from the keyboard using LangChain and Gemini.\n",
    "    \"\"\"\n",
    "    # Load conversation text from user input\n",
    "    conversation_text = input(\"Please enter the conversation text: \")\n",
    "    \n",
    "    return summarize_conversation(conversation_text)"
   ]
  },
  {
   "cell_type": "code",
   "execution_count": 7,
   "metadata": {},
   "outputs": [],
   "source": [
    "def summarize_conversation_from_url(url):\n",
    "    \"\"\"\n",
    "    Summarizes conversation from a web page using LangChain and Gemini.\n",
    "\n",
    "    Args:\n",
    "        url: URL of the web page containing the conversation.\n",
    "    \"\"\"\n",
    "    # Fetch the web page content\n",
    "    response = requests.get(url)\n",
    "    if response.status_code == 200:\n",
    "        # Parse the web page content\n",
    "        soup = BeautifulSoup(response.text, 'html.parser')\n",
    "        # Extract the main text (this can vary depending on the structure of the web page)\n",
    "        paragraphs = soup.find_all('p')\n",
    "        conversation_text = '\\n'.join([para.get_text() for para in paragraphs])\n",
    "        return summarize_conversation(conversation_text)\n",
    "    else:\n",
    "        print(f\"Failed to fetch the webpage. Status code: {response.status_code}\")\n",
    "        return None"
   ]
  },
  {
   "cell_type": "code",
   "execution_count": 8,
   "metadata": {},
   "outputs": [],
   "source": [
    "def summarize_conversation(conversation_text):\n",
    "    \"\"\"\n",
    "    Summarizes the given conversation text using LangChain and Gemini.\n",
    "\n",
    "    Args:\n",
    "        conversation_text: Text of the conversation to summarize.\n",
    "    \"\"\"\n",
    "    # Create LangChain pipeline\n",
    "    llm = ChatGoogleGenerativeAI(model=\"gemini-pro\", google_api_key=google_api_key)\n",
    "    \n",
    "    # Create the chains for extracting and summarizing the conversation\n",
    "    extract_chain = LLMChain(llm=llm, prompt=extract_conversation_prompt)\n",
    "    summarize_chain = LLMChain(llm=llm, prompt=summarize_conversation_prompt)\n",
    "    \n",
    "    try:\n",
    "        # Run the extraction chain\n",
    "        extracted_result = extract_chain.run(text=conversation_text)\n",
    "        # Ensure the extracted result is in the correct format\n",
    "        extracted_text = extracted_result['text'] if isinstance(extracted_result, dict) else extracted_result\n",
    "\n",
    "        # Run the summarization chain on the extracted text\n",
    "        summary_result = summarize_chain.run(text=extracted_text)\n",
    "        summary_text = summary_result['text'] if isinstance(summary_result, dict) else summary_result\n",
    "        \n",
    "        return summary_text\n",
    "    except Exception as e:\n",
    "        print(f\"Error summarizing conversation: {e}\")\n",
    "        return None"
   ]
  },
  {
   "cell_type": "code",
   "execution_count": 10,
   "metadata": {},
   "outputs": [
    {
     "name": "stderr",
     "output_type": "stream",
     "text": [
      "c:\\Users\\Admin\\Documents\\GPT_LLM\\LLMVenv\\lib\\site-packages\\langchain_core\\_api\\deprecation.py:119: LangChainDeprecationWarning: The class `LLMChain` was deprecated in LangChain 0.1.17 and will be removed in 0.3.0. Use RunnableSequence, e.g., `prompt | llm` instead.\n",
      "  warn_deprecated(\n",
      "c:\\Users\\Admin\\Documents\\GPT_LLM\\LLMVenv\\lib\\site-packages\\langchain_core\\_api\\deprecation.py:119: LangChainDeprecationWarning: The method `Chain.run` was deprecated in langchain 0.1.0 and will be removed in 0.3.0. Use invoke instead.\n",
      "  warn_deprecated(\n"
     ]
    },
    {
     "name": "stdout",
     "output_type": "stream",
     "text": [
      "Summary: **Mở Tài Khoản**\n",
      "\n",
      "* Chỉ khách hàng Nhật Bản từ 18 tuổi trở lên sinh sống và làm việc tại Việt Nam mới có thể mở tài khoản.\n",
      "* Yêu cầu giấy tờ: Passport, VISA hoặc giấy tạm trú, hợp đồng lao động, giấy phép lao động.\n",
      "* Không thể đăng ký mở tài khoản từ Nhật Bản hoặc qua internet/bưu điện.\n",
      "* Có thể phát hành thẻ phụ cho người không cư trú tại Việt Nam.\n",
      "\n",
      "**Thay Đổi Thông Tin/ Báo Mất/ Phát Hành Thẻ**\n",
      "\n",
      "* Liên hệ tổng đài tiếng Nhật của Vietinbank để báo mất thẻ.\n",
      "* Có thể phát hành lại thẻ ở bất kỳ chi nhánh nào của Vietinbank.\n",
      "* Không thể sử dụng thẻ cũ sau khi phát hành thẻ mới.\n",
      "* Cần liên hệ chi nhánh để đăng ký sử dụng lại thẻ cũ nếu tìm thấy sau khi báo mất.\n",
      "* Đến chi nhánh hỗ trợ VSBP để thay đổi thông tin.\n",
      "\n",
      "**Visa Debit Card**\n",
      "\n",
      "* Đến chi nhánh với hộ chiếu, thẻ tạm trú, giấy phép lao động để phát hành lại thẻ hết hạn.\n",
      "* Có thể sử dụng thẻ visa debit để thanh toán trực tuyến sau khi đăng ký Internet Payment.\n",
      "\n",
      "**Internet Banking (iPay)**\n",
      "\n",
      "* Đăng ký tại chi nhánh Vietinbank hoặc thời điểm mở tài khoản.\n",
      "* Sử dụng User ID và password được gửi qua email để đăng nhập lần đầu.\n",
      "* iPay hỗ trợ tiếng Anh và tiếng Việt.\n",
      "* Có thể truy cập tài khoản từ nước ngoài nhưng cần đăng ký Data Roaming hoặc thiết bị RSA.\n",
      "* Có thể sử dụng iPay trên máy tính, tablet và smartphone.\n",
      "\n",
      "**SMS Banking**\n",
      "\n",
      "* Dịch vụ gửi tin nhắn thông báo biến động tài khoản.\n",
      "* Cần đăng ký thay đổi số điện thoại tại chi nhánh Vietinbank nếu thay đổi số.\n",
      "* Tin nhắn SMS Banking chỉ hỗ trợ tiếng Việt.\n",
      "* Hỗ trợ cả tài khoản VND và USD.\n"
     ]
    }
   ],
   "source": [
    "if __name__ == \"__main__\":\n",
    "    choice = input(\"Do you want to summarize a conversation from a file or from input? (file/input): \").strip().lower()\n",
    "    \n",
    "    if choice == \"file\":\n",
    "        filename = input(\"Please enter the filename: \").strip()\n",
    "        summary = summarize_conversation_from_file(filename)\n",
    "    elif choice == \"input\":\n",
    "        summary = summarize_conversation_from_input()\n",
    "    elif choice == \"url\":\n",
    "        url = input(\"Please enter the URL: \").strip()\n",
    "        summary = summarize_conversation_from_url(url)\n",
    "    else:\n",
    "        print(\"Invalid choice. Please enter 'file', 'input', or 'url'.\")\n",
    "        summary = None\n",
    "\n",
    "    if summary:\n",
    "        print(f\"Summary: {summary}\")"
   ]
  },
  {
   "cell_type": "markdown",
   "metadata": {},
   "source": [
    "### Clean Text"
   ]
  },
  {
   "cell_type": "code",
   "execution_count": 18,
   "metadata": {},
   "outputs": [],
   "source": [
    "import re"
   ]
  },
  {
   "cell_type": "code",
   "execution_count": 19,
   "metadata": {},
   "outputs": [],
   "source": [
    "def clean_text(text):\n",
    "    \"\"\"\n",
    "    Cleans the text by removing special characters.\n",
    "\n",
    "    Args:\n",
    "        text: Text to be cleaned.\n",
    "    \"\"\"\n",
    "    # Remove special characters\n",
    "    cleaned_text = re.sub(r'[^A-Za-z0-9\\s]+', '', text)\n",
    "    return cleaned_text"
   ]
  },
  {
   "cell_type": "code",
   "execution_count": 20,
   "metadata": {},
   "outputs": [],
   "source": [
    "texts_cleaning = clean_text(summary)"
   ]
  },
  {
   "cell_type": "code",
   "execution_count": 13,
   "metadata": {},
   "outputs": [],
   "source": [
    "from langchain_community.embeddings.sentence_transformer import (\n",
    "    SentenceTransformerEmbeddings,\n",
    ")\n",
    "from langchain_chroma import Chroma"
   ]
  },
  {
   "cell_type": "code",
   "execution_count": 12,
   "metadata": {},
   "outputs": [],
   "source": [
    "from langchain_text_splitters import RecursiveCharacterTextSplitter"
   ]
  },
  {
   "cell_type": "code",
   "execution_count": 14,
   "metadata": {},
   "outputs": [],
   "source": [
    "text_splitter = RecursiveCharacterTextSplitter(\n",
    "    # Set a really small chunk size, just to show.\n",
    "    chunk_size=100,\n",
    "    chunk_overlap=20,\n",
    "    length_function=len,\n",
    "    is_separator_regex=False,\n",
    ")"
   ]
  },
  {
   "cell_type": "code",
   "execution_count": 21,
   "metadata": {},
   "outputs": [
    {
     "name": "stdout",
     "output_type": "stream",
     "text": [
      "page_content='M Ti Khon'\n",
      "page_content='Ch khch hng Nht Bn t 18 tui tr ln sinh sng v lm vic ti Vit Nam mi c th m ti khon'\n"
     ]
    }
   ],
   "source": [
    "texts = text_splitter.create_documents([texts_cleaning])\n",
    "print(texts[0])\n",
    "print(texts[1])"
   ]
  },
  {
   "cell_type": "code",
   "execution_count": 17,
   "metadata": {},
   "outputs": [
    {
     "data": {
      "text/plain": [
       "['**Mở Tài Khoản**',\n",
       " '* Chỉ khách hàng Nhật Bản từ 18 tuổi trở lên sinh sống và làm việc tại Việt Nam mới có thể mở tài',\n",
       " 'mới có thể mở tài khoản.',\n",
       " '* Yêu cầu giấy tờ: Passport, VISA hoặc giấy tạm trú, hợp đồng lao động, giấy phép lao động.',\n",
       " '* Không thể đăng ký mở tài khoản từ Nhật Bản hoặc qua internet/bưu điện.',\n",
       " '* Có thể phát hành thẻ phụ cho người không cư trú tại Việt Nam.',\n",
       " '**Thay Đổi Thông Tin/ Báo Mất/ Phát Hành Thẻ**',\n",
       " '* Liên hệ tổng đài tiếng Nhật của Vietinbank để báo mất thẻ.',\n",
       " '* Có thể phát hành lại thẻ ở bất kỳ chi nhánh nào của Vietinbank.',\n",
       " '* Không thể sử dụng thẻ cũ sau khi phát hành thẻ mới.',\n",
       " '* Cần liên hệ chi nhánh để đăng ký sử dụng lại thẻ cũ nếu tìm thấy sau khi báo mất.',\n",
       " '* Đến chi nhánh hỗ trợ VSBP để thay đổi thông tin.',\n",
       " '**Visa Debit Card**',\n",
       " '* Đến chi nhánh với hộ chiếu, thẻ tạm trú, giấy phép lao động để phát hành lại thẻ hết hạn.',\n",
       " '* Có thể sử dụng thẻ visa debit để thanh toán trực tuyến sau khi đăng ký Internet Payment.',\n",
       " '**Internet Banking (iPay)**',\n",
       " '* Đăng ký tại chi nhánh Vietinbank hoặc thời điểm mở tài khoản.',\n",
       " '* Sử dụng User ID và password được gửi qua email để đăng nhập lần đầu.',\n",
       " '* iPay hỗ trợ tiếng Anh và tiếng Việt.',\n",
       " '* Có thể truy cập tài khoản từ nước ngoài nhưng cần đăng ký Data Roaming hoặc thiết bị RSA.',\n",
       " '* Có thể sử dụng iPay trên máy tính, tablet và smartphone.',\n",
       " '**SMS Banking**',\n",
       " '* Dịch vụ gửi tin nhắn thông báo biến động tài khoản.',\n",
       " '* Cần đăng ký thay đổi số điện thoại tại chi nhánh Vietinbank nếu thay đổi số.',\n",
       " '* Tin nhắn SMS Banking chỉ hỗ trợ tiếng Việt.\\n* Hỗ trợ cả tài khoản VND và USD.']"
      ]
     },
     "execution_count": 17,
     "metadata": {},
     "output_type": "execute_result"
    }
   ],
   "source": [
    "text_splitter.split_text(summary)"
   ]
  },
  {
   "cell_type": "code",
   "execution_count": null,
   "metadata": {},
   "outputs": [],
   "source": [
    "def save_summary_to_chromadb(summary_text):\n",
    "    \"\"\"\n",
    "    Saves the summary text to ChromaDB with embeddings.\n",
    "\n",
    "    Args:\n",
    "        summary_text: Text of the summary to be saved.\n",
    "    \"\"\"\n",
    "    # Initialize the Chroma client\n",
    "    chroma_client = ChromaClient()\n",
    "    \n",
    "    # Use SentenceTransformer for embeddings\n",
    "    model_name = \"all-MiniLM-L6-v2\"\n",
    "    embedder = SentenceTransformer(model_name)\n",
    "    embedding = embedder.encode(summary_text).tolist()\n",
    "    \n",
    "    # Save to ChromaDB\n",
    "    chroma_client.add_vector(vector_id=\"summary_1\", vector=embedding, metadata={\"summary\": summary_text})\n",
    "    print(\"Summary saved to ChromaDB.\")"
   ]
  }
 ],
 "metadata": {
  "kernelspec": {
   "display_name": "LLMVenv",
   "language": "python",
   "name": "python3"
  },
  "language_info": {
   "codemirror_mode": {
    "name": "ipython",
    "version": 3
   },
   "file_extension": ".py",
   "mimetype": "text/x-python",
   "name": "python",
   "nbconvert_exporter": "python",
   "pygments_lexer": "ipython3",
   "version": "3.10.11"
  }
 },
 "nbformat": 4,
 "nbformat_minor": 2
}
