{
 "cells": [
  {
   "cell_type": "code",
   "execution_count": 19,
   "metadata": {},
   "outputs": [],
   "source": [
    "import os\n",
    "from dotenv import load_dotenv\n",
    "\n",
    "# Tải biến môi trường từ tệp .env\n",
    "load_dotenv()\n",
    "\n",
    "# Lấy khóa API từ biến môi trường\n",
    "google_api_key = os.getenv(\"GOOGLE_API_KEY\")\n",
    "langchain_api_key = os.getenv(\"LANGCHAIN_API_KEY\")"
   ]
  },
  {
   "cell_type": "code",
   "execution_count": 20,
   "metadata": {},
   "outputs": [],
   "source": [
    "os.environ['LANGCHAIN_TRACING_V2'] = 'true'\n",
    "os.environ['LANGCHAIN_ENDPOINT'] = 'https://api.smith.langchain.com'\n",
    "os.environ['LANGCHAIN_API_KEY'] = langchain_api_key"
   ]
  },
  {
   "cell_type": "code",
   "execution_count": 21,
   "metadata": {},
   "outputs": [],
   "source": [
    "os.environ['OPENAI_API_KEY'] = google_api_key"
   ]
  },
  {
   "cell_type": "code",
   "execution_count": 1,
   "metadata": {},
   "outputs": [],
   "source": [
    "import pandas as pd\n",
    "import chromadb\n",
    "from langchain_community.embeddings.sentence_transformer import (\n",
    "    SentenceTransformerEmbeddings,\n",
    ")\n",
    "from chromadb.utils import embedding_functions\n",
    "from langchain_chroma import Chroma"
   ]
  },
  {
   "cell_type": "code",
   "execution_count": 2,
   "metadata": {},
   "outputs": [
    {
     "name": "stdout",
     "output_type": "stream",
     "text": [
      "                                           Questions  \\\n",
      "0  Tài khoản của tôi có chắc chắn được đảm bảo và...   \n",
      "1          Làm thế nào để đóng tài khoản tại TPBank?   \n",
      "2  Làm thế nào để thay đổi tên chủ tài khoản tại ...   \n",
      "3  Làm thế nào tôi biết được tài khoản của tôi đã...   \n",
      "4  Liệu TPBank có chấp nhận mở tài khoản bằng ngo...   \n",
      "\n",
      "                                             Answers  \n",
      "0  Bằng việc áp dụng những công nghệ kỹ thuật mới...  \n",
      "1  Để đóng tài khoản tại TPBank, Quý khách cần tr...  \n",
      "2  Hiện nay, việc thay đổi tên chủ tài khoản (kèm...  \n",
      "3  Thông thường, ngay sau khi hoàn tất thủ tục đă...  \n",
      "4  Hiện tại ở TPBank, ngoài tài khoản bằng VND, Q...  \n"
     ]
    }
   ],
   "source": [
    "\n",
    "\n",
    "# Đọc dữ liệu từ file Excel\n",
    "file_path = r'C:\\Users\\Admin\\Documents\\GPT_LLM\\Final_Project\\TPBankData.csv'  # Thay thế bằng đường dẫn thực tế đến file Excel của bạn\n",
    "df = pd.read_csv(file_path)\n",
    "# df.to_csv(r\"C:\\Users\\Admin\\Documents\\GPT_LLM\\Final_Project\\TPBankData.csv\", index=False)\n",
    "\n",
    "# Kiểm tra dữ liệu đã đọc\n",
    "print(df.head())\n",
    "\n",
    "\n"
   ]
  },
  {
   "cell_type": "code",
   "execution_count": 73,
   "metadata": {},
   "outputs": [],
   "source": [
    "client = chromadb.HttpClient(host='localhost', port=8000)\n",
    "client.delete_collection(\"QA_collection\")"
   ]
  },
  {
   "cell_type": "code",
   "execution_count": 32,
   "metadata": {},
   "outputs": [],
   "source": [
    "client = chromadb.PersistentClient(path=r\"C:\\Users\\Admin\\Documents\\GPT_LLM\\Final_Project\\Database\")"
   ]
  },
  {
   "cell_type": "code",
   "execution_count": 6,
   "metadata": {},
   "outputs": [
    {
     "name": "stderr",
     "output_type": "stream",
     "text": [
      "c:\\Users\\Admin\\Documents\\GPT_LLM\\LLMVenv\\lib\\site-packages\\sentence_transformers\\cross_encoder\\CrossEncoder.py:11: TqdmWarning: IProgress not found. Please update jupyter and ipywidgets. See https://ipywidgets.readthedocs.io/en/stable/user_install.html\n",
      "  from tqdm.autonotebook import tqdm, trange\n",
      "c:\\Users\\Admin\\Documents\\GPT_LLM\\LLMVenv\\lib\\site-packages\\huggingface_hub\\file_download.py:1132: FutureWarning: `resume_download` is deprecated and will be removed in version 1.0.0. Downloads always resume when possible. If you want to force a new download, use `force_download=True`.\n",
      "  warnings.warn(\n"
     ]
    }
   ],
   "source": [
    "client = chromadb.HttpClient(host='localhost', port=8000)\n",
    "embeddings = embedding_functions.SentenceTransformerEmbeddingFunction(model_name=\"all-MiniLM-L6-v2\")"
   ]
  },
  {
   "cell_type": "code",
   "execution_count": 74,
   "metadata": {},
   "outputs": [],
   "source": [
    "# Tạo kết nối tới ChromaDB\n",
    "client = chromadb.HttpClient(host='localhost', port=8000)  # Giả sử rằng bạn đã có thiết lập ChromaDB HttpClient\n",
    "embeddings = embedding_functions.SentenceTransformerEmbeddingFunction(model_name=\"all-MiniLM-L6-v2\")\n",
    "# Tạo collection mới trong ChromaDB\n",
    "collection = client.create_collection(\"QA_collection\", embedding_function= embeddings)\n",
    "# # Chuẩn bị dữ liệu để lưu trữ\n",
    "# documents = df.iloc[:, 0].tolist()  # Cột câu hỏi (giả sử nằm ở cột thứ hai)\n",
    "# answers = df.iloc[:, 1].tolist()    # Cột câu trả lời (giả sử nằm ở cột thứ nhất)\n",
    "# ids = [f\"doc{i}\" for i in range(len(documents))]\n",
    "\n",
    "\n",
    "\n",
    "\n",
    "for idx, row in df.iterrows():\n",
    "    ques, ans = row[\"Questions\"], row[\"Answers\"]\n",
    "    # Lưu trữ dữ liệu vào ChromaDB\n",
    "    collection.add(\n",
    "        documents=ques,\n",
    "        metadatas= [{\"Answers\":ans}],\n",
    "        ids=str(idx),\n",
    "    )\n",
    "    # print(ques, \":\", ans)"
   ]
  },
  {
   "cell_type": "code",
   "execution_count": 7,
   "metadata": {},
   "outputs": [],
   "source": [
    "db = client.get_collection(name=\"QA_collection\", embedding_function=embeddings)"
   ]
  },
  {
   "cell_type": "code",
   "execution_count": 61,
   "metadata": {},
   "outputs": [
    {
     "name": "stderr",
     "output_type": "stream",
     "text": [
      "c:\\Users\\Admin\\Documents\\GPT_LLM\\LLMVenv\\lib\\site-packages\\huggingface_hub\\file_download.py:1132: FutureWarning: `resume_download` is deprecated and will be removed in version 1.0.0. Downloads always resume when possible. If you want to force a new download, use `force_download=True`.\n",
      "  warnings.warn(\n"
     ]
    }
   ],
   "source": [
    "embedding_function = SentenceTransformerEmbeddings(model_name=\"all-MiniLM-L6-v2\")\n",
    "db1 = Chroma(\n",
    "    client=client,\n",
    "    collection_name=\"QA_collection\",\n",
    "    embedding_function=embedding_function,\n",
    ")"
   ]
  },
  {
   "cell_type": "code",
   "execution_count": 62,
   "metadata": {},
   "outputs": [],
   "source": [
    "query = \"Làm thế nào để đóng tài khoản tại TPBank?\"\n",
    "docs = db1.similarity_search_with_score(query)"
   ]
  },
  {
   "cell_type": "code",
   "execution_count": 63,
   "metadata": {},
   "outputs": [
    {
     "data": {
      "text/plain": [
       "(Document(page_content='Làm thế nào để thay đổi tên chủ tài khoản tại TPBank? Hiện nay, việc thay đổi tên chủ tài khoản (kèm theo thay đổi số CMND/Hộ chiếu) không được chấp nhận thực hiện tại TPBank.'),\n",
       " 0.4376767092197575)"
      ]
     },
     "execution_count": 63,
     "metadata": {},
     "output_type": "execute_result"
    }
   ],
   "source": [
    "docs[0]"
   ]
  },
  {
   "cell_type": "code",
   "execution_count": 16,
   "metadata": {},
   "outputs": [
    {
     "name": "stdout",
     "output_type": "stream",
     "text": [
      "{'ids': [['27']], 'distances': [[0.05730263851186082]], 'embeddings': None, 'metadatas': [[{'Answers': 'Thời gian xử lý tra soát, khiếu nại phụ thuộc vào nội dung yêu cầu của khách hàng. TPBank cam kết sẽ hỗ trợ Quý khách trong thời gian sớm nhất có thể:\\n• Với các giao dịch chuyển tiền nội bộ: Trong vòng 24h kể từ khi tiếp nhận yêu cầu\\n• Với các giao dịch chuyển tiền thông thường tới ngân hàng khác, giao dịch nạp tiền điện thoại/thanh toán hóa đơn/mua hàng trực tuyến: Thời gian phụ thuộc vào thời gian xử lý của các đối tác, các trung gian thanh toán/Ngân hàng nhà nước và ngân hàng nhận tiền, tối đa 7 ngày làm việc kể từ khi TPBank tiếp nhận yêu cầu của Quý khách\\n• Với các chuyển tiền nhanh tới ngân hàng khác: Thời gian xử lý phụ thuộc vào quy trình xử lý của đối tác thứ 3, có thể lên tới 15 ngày làm việc.'}]], 'documents': [['Thời gian xử lý tra soát, khiếu nại về dịch vụ Ngân hàng điện tử là bao lâu?']], 'uris': None, 'data': None}\n"
     ]
    }
   ],
   "source": [
    "# Ví dụ truy vấn\n",
    "results = db.query(\n",
    "    query_texts=[\"Trong thời gian bao lâu để xử lý tra soát, khiếu nại về dịch vụ Ngân hàng điện tử?\"],\n",
    "    n_results=1\n",
    ")\n",
    "# In kết quả truy vấn\n",
    "print(results)"
   ]
  },
  {
   "cell_type": "code",
   "execution_count": 17,
   "metadata": {},
   "outputs": [
    {
     "name": "stdout",
     "output_type": "stream",
     "text": [
      "Câu trả lời: Thời gian xử lý tra soát, khiếu nại phụ thuộc vào nội dung yêu cầu của khách hàng. TPBank cam kết sẽ hỗ trợ Quý khách trong thời gian sớm nhất có thể:\n",
      "• Với các giao dịch chuyển tiền nội bộ: Trong vòng 24h kể từ khi tiếp nhận yêu cầu\n",
      "• Với các giao dịch chuyển tiền thông thường tới ngân hàng khác, giao dịch nạp tiền điện thoại/thanh toán hóa đơn/mua hàng trực tuyến: Thời gian phụ thuộc vào thời gian xử lý của các đối tác, các trung gian thanh toán/Ngân hàng nhà nước và ngân hàng nhận tiền, tối đa 7 ngày làm việc kể từ khi TPBank tiếp nhận yêu cầu của Quý khách\n",
      "• Với các chuyển tiền nhanh tới ngân hàng khác: Thời gian xử lý phụ thuộc vào quy trình xử lý của đối tác thứ 3, có thể lên tới 15 ngày làm việc.\n"
     ]
    }
   ],
   "source": [
    "answer = results['metadatas'][0][0].get('Answers', 'Không có câu trả lời')\n",
    "print(\"Câu trả lời:\", answer)"
   ]
  },
  {
   "cell_type": "code",
   "execution_count": 32,
   "metadata": {},
   "outputs": [],
   "source": [
    "from langchain.prompts import PromptTemplate \n",
    "summarize_conversation_prompt = PromptTemplate(\n",
    "    input_variables=[\"text\",\"query\"],\n",
    "    template=\"Bạn là một chuyên gia trong các dịch vụ ngân hàng và cung cấp thông tin chính xác bằng đoạn văn dưới đây. \\\n",
    "    Câu trả lời của bạn nên chi tiết nhưng đơn giản, đảm bảo khách hàng hiểu tất cả các khía cạnh. \\\n",
    "    Giữ giọng điệu thân thiện và tránh các thuật ngữ kỹ thuật.\\\n",
    "    Câu hỏi: {query}\\\n",
    "    Nội dung: {text}\"\n",
    ")"
   ]
  },
  {
   "cell_type": "code",
   "execution_count": 59,
   "metadata": {},
   "outputs": [],
   "source": [
    "user_input_prompt = PromptTemplate(input_variables=[\"user_input\"],\n",
    "                                 template=\"Người dùng trả lời: '{user_input}'. Họ có muốn cung cấp thông tin cá nhân để được hỗ trợ thêm không? Trả lời 'có' hoặc 'không'.\")"
   ]
  },
  {
   "cell_type": "code",
   "execution_count": 22,
   "metadata": {},
   "outputs": [],
   "source": [
    "from langchain_google_genai import ChatGoogleGenerativeAI\n",
    "from langchain import LLMChain"
   ]
  },
  {
   "cell_type": "code",
   "execution_count": 67,
   "metadata": {},
   "outputs": [],
   "source": [
    "LLM = ChatGoogleGenerativeAI(temperature=0.5, model=\"gemini-pro\")"
   ]
  },
  {
   "cell_type": "code",
   "execution_count": 68,
   "metadata": {},
   "outputs": [],
   "source": [
    "sum_chain = LLMChain(llm=LLM, prompt=summarize_conversation_prompt)\n",
    "user_input_chain = LLMChain(llm = LLM, prompt=user_input_prompt)"
   ]
  },
  {
   "cell_type": "code",
   "execution_count": 71,
   "metadata": {},
   "outputs": [],
   "source": [
    "\n",
    "query = input(\"\\nBạn có muốn nhập thông tin muốn hỏi? (Trả lời tự nhiên): \").strip()\n",
    "summary_result = sum_chain.run(query= query,text=answer)\n",
    "summary_text = summary_result['text'] if isinstance(summary_result, dict) else summary_result\n",
    "        \n"
   ]
  },
  {
   "cell_type": "code",
   "execution_count": 72,
   "metadata": {},
   "outputs": [
    {
     "name": "stdout",
     "output_type": "stream",
     "text": [
      "Thời gian chuyển tiền đến ngân hàng khác phụ thuộc vào loại giao dịch bạn thực hiện:\n",
      "\n",
      "**Chuyển tiền nội bộ (trong cùng TPBank):**\n",
      "* Trong vòng 24 giờ kể từ khi gửi yêu cầu\n",
      "\n",
      "**Chuyển tiền thông thường đến ngân hàng khác:**\n",
      "* Phụ thuộc vào thời gian xử lý của các ngân hàng khác, các đối tác thanh toán và Ngân hàng Nhà nước.\n",
      "* Tối đa 7 ngày làm việc kể từ khi TPBank nhận được yêu cầu của bạn\n",
      "\n",
      "**Chuyển tiền nhanh đến ngân hàng khác:**\n",
      "* Phụ thuộc vào quy trình xử lý của bên thứ ba.\n",
      "* Có thể mất đến 15 ngày làm việc\n"
     ]
    }
   ],
   "source": [
    "print(summary_text)"
   ]
  },
  {
   "cell_type": "code",
   "execution_count": 39,
   "metadata": {},
   "outputs": [],
   "source": [
    "import csv"
   ]
  },
  {
   "cell_type": "code",
   "execution_count": null,
   "metadata": {},
   "outputs": [],
   "source": [
    "def save_user_info(name, email, phone):\n",
    "    with open('user_info.csv', mode='a', newline='') as file:\n",
    "        writer = csv.writer(file)\n",
    "        writer.writerow([name, email, phone])"
   ]
  },
  {
   "cell_type": "code",
   "execution_count": 62,
   "metadata": {},
   "outputs": [
    {
     "name": "stdout",
     "output_type": "stream",
     "text": [
      "có\n"
     ]
    }
   ],
   "source": [
    "# Hỏi xem người dùng có muốn nhập thông tin không\n",
    "user_input = input(\"\\nBạn có muốn nhập thông tin để được hỗ trợ thêm không? (Trả lời tự nhiên): \").strip()\n",
    "    \n",
    "# Sử dụng LLMChain để đánh giá ý định người dùng\n",
    "intent = user_input_chain.run(user_input)\n",
    "\n",
    "print(intent)"
   ]
  },
  {
   "cell_type": "code",
   "execution_count": 63,
   "metadata": {},
   "outputs": [
    {
     "name": "stdout",
     "output_type": "stream",
     "text": [
      "\n",
      "Vui lòng nhập thông tin của bạn.\n",
      "Cảm ơn bạn! Thông tin của bạn đã được lưu lại.\n"
     ]
    }
   ],
   "source": [
    "if intent == 'Có' or \"có\":\n",
    "        # Yêu cầu người dùng nhập thông tin\n",
    "    print(\"\\nVui lòng nhập thông tin của bạn.\")\n",
    "    name = input(\"Tên: \")\n",
    "    email = input(\"Email: \")\n",
    "    phone = input(\"Số điện thoại: \")\n",
    "\n",
    "    # Lưu thông tin người dùng\n",
    "    # save_user_info(name, email, phone)\n",
    "    print(\"Cảm ơn bạn! Thông tin của bạn đã được lưu lại.\")\n",
    "else:\n",
    "    print(\"Cảm ơn bạn! Nếu cần hỗ trợ thêm, vui lòng liên hệ với chúng tôi.\")"
   ]
  },
  {
   "cell_type": "markdown",
   "metadata": {},
   "source": [
    "### Xác định tin nhắn tiêu cực"
   ]
  },
  {
   "cell_type": "code",
   "execution_count": 64,
   "metadata": {},
   "outputs": [],
   "source": [
    "negav_mess = PromptTemplate(input_variables=[\"message\"],\n",
    "    template=\"Phân loại tin nhắn sau là tích cực hay tiêu cực: '{message}'. Trả lời 'tích cực' hoặc 'tiêu cực'.\")"
   ]
  },
  {
   "cell_type": "code",
   "execution_count": 65,
   "metadata": {},
   "outputs": [],
   "source": [
    "negav_mess_chain = LLMChain(prompt=negav_mess, llm=LLM)"
   ]
  },
  {
   "cell_type": "code",
   "execution_count": 66,
   "metadata": {},
   "outputs": [
    {
     "name": "stdout",
     "output_type": "stream",
     "text": [
      "Tin nhắn: 'Tôi rất hài lòng với dịch vụ của bạn.' - Cảm xúc: tích cực\n",
      "Tin nhắn: 'Dịch vụ quá tệ và nhân viên không thân thiện.' - Cảm xúc: tiêu cực\n",
      "Tin nhắn: 'Sản phẩm chất lượng tốt, tôi sẽ mua lần sau.' - Cảm xúc: tích cực\n",
      "Tin nhắn: 'Giao hàng chậm trễ và sản phẩm bị hỏng.' - Cảm xúc: tiêu cực\n"
     ]
    }
   ],
   "source": [
    "def classify_message_sentiment(message):\n",
    "    sentiment = negav_mess_chain.run(message=message).strip().lower()\n",
    "    return sentiment\n",
    "\n",
    "# Ví dụ tin nhắn người dùng\n",
    "messages = [\n",
    "    \"Tôi rất hài lòng với dịch vụ của bạn.\",\n",
    "    \"Dịch vụ quá tệ và nhân viên không thân thiện.\",\n",
    "    \"Sản phẩm chất lượng tốt, tôi sẽ mua lần sau.\",\n",
    "    \"Giao hàng chậm trễ và sản phẩm bị hỏng.\"\n",
    "]\n",
    "\n",
    "# Đánh giá cảm xúc cho mỗi tin nhắn\n",
    "for message in messages:\n",
    "    sentiment = classify_message_sentiment(message)\n",
    "    print(f\"Tin nhắn: '{message}' - Cảm xúc: {sentiment}\")"
   ]
  }
 ],
 "metadata": {
  "kernelspec": {
   "display_name": "LLMVenv",
   "language": "python",
   "name": "python3"
  },
  "language_info": {
   "codemirror_mode": {
    "name": "ipython",
    "version": 3
   },
   "file_extension": ".py",
   "mimetype": "text/x-python",
   "name": "python",
   "nbconvert_exporter": "python",
   "pygments_lexer": "ipython3",
   "version": "3.10.11"
  }
 },
 "nbformat": 4,
 "nbformat_minor": 2
}
